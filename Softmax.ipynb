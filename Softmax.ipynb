{
 "cells": [
  {
   "cell_type": "code",
   "execution_count": 92,
   "metadata": {},
   "outputs": [],
   "source": [
    "import tensorflow as tf\n",
    "import numpy as np\n",
    "import matplotlib.pyplot as plt"
   ]
  },
  {
   "cell_type": "code",
   "execution_count": 62,
   "metadata": {},
   "outputs": [],
   "source": [
    "import _pickle as cPickle, gzip, numpy\n",
    "f = gzip.open('mnist.pkl.gz', 'rb')\n",
    "train_set, valid_set, test_set = cPickle.load(f, encoding='latin1')\n",
    "f.close()"
   ]
  },
  {
   "cell_type": "code",
   "execution_count": 63,
   "metadata": {},
   "outputs": [
    {
     "name": "stdout",
     "output_type": "stream",
     "text": [
      "labels:  [0, 1, 2, 3, 4, 5, 6, 7, 8, 9]\n",
      "X_train dimension:(784, 50000) ,Y_train dimention:(10, 50000)\n",
      "X_test dimension:(784, 10000) ,Y_test dimention:(10, 10000)\n"
     ]
    }
   ],
   "source": [
    "X_train, Y_train = train_set\n",
    "X_test, Y_test = test_set\n",
    "labels = list(set(Y_train))\n",
    "depth = len(labels)\n",
    "print(\"labels: \", labels)\n",
    "with tf.Session() as sess:\n",
    "    YtrainOneHot = tf.one_hot(Y_train, depth, axis = 0)\n",
    "    Y_train = sess.run(YtrainOneHot)\n",
    "    YtestOneHot = tf.one_hot(Y_test, depth, axis = 0)\n",
    "    Y_test = sess.run(YtestOneHot)\n",
    "X_train = X_train.T\n",
    "X_test = X_test.T\n",
    "print(\"X_train dimension:{} ,Y_train dimention:{}\".format(X_train.shape, Y_train.shape))\n",
    "print(\"X_test dimension:{} ,Y_test dimention:{}\".format(X_test.shape, Y_test.shape))"
   ]
  },
  {
   "cell_type": "code",
   "execution_count": 76,
   "metadata": {},
   "outputs": [],
   "source": [
    "layer_dims = [784,25,25,10]"
   ]
  },
  {
   "cell_type": "code",
   "execution_count": 65,
   "metadata": {},
   "outputs": [],
   "source": [
    "def placeholders(num_features, num_classes):\n",
    "    A_0 = tf.placeholder(dtype = tf.float64, shape = ([num_features,None]))\n",
    "    Y = tf.placeholder(dtype = tf.float64, shape = ([num_classes,None]))\n",
    "    return A_0,Y"
   ]
  },
  {
   "cell_type": "code",
   "execution_count": 66,
   "metadata": {
    "collapsed": true
   },
   "outputs": [],
   "source": [
    "def initialize_parameters_deep(layer_dims):\n",
    "    L = len(layer_dims)\n",
    "    parameters = {}\n",
    "    for l in range(1,L):\n",
    "        parameters['W' + str(l)] = tf.Variable(initial_value=tf.random_normal([layer_dims[l], layer_dims[l-1]], dtype=tf.float64) * 0.01)\n",
    "        parameters['b' + str(l)] = tf.Variable(initial_value=tf.zeros([layer_dims[l],1], dtype=tf.float64))\n",
    "    return parameters "
   ]
  },
  {
   "cell_type": "code",
   "execution_count": 67,
   "metadata": {
    "collapsed": true
   },
   "outputs": [],
   "source": [
    "def linear_forward_prop(A_prev,W,b, activation):\n",
    "    Z = tf.add(tf.matmul(W, A_prev), b)\n",
    "    if activation == \"softmax\":\n",
    "        A = Z\n",
    "    elif activation == \"relu\":\n",
    "        A = tf.nn.relu(Z)\n",
    "    return A"
   ]
  },
  {
   "cell_type": "code",
   "execution_count": 68,
   "metadata": {
    "collapsed": true
   },
   "outputs": [],
   "source": [
    "def l_layer_forwardProp(A_0, parameters):\n",
    "    A = A_0\n",
    "    L = len(parameters)//2\n",
    "    for l in range(1,L):\n",
    "        A_prev = A\n",
    "        A = linear_forward_prop(A_prev, parameters['W' + str(l)], parameters['b' + str(l)], \"relu\")\n",
    "    A = linear_forward_prop(A, parameters['W' + str(L)], parameters['b' + str(L)], \"softmax\" )\n",
    "    return A"
   ]
  },
  {
   "cell_type": "code",
   "execution_count": 80,
   "metadata": {
    "collapsed": true
   },
   "outputs": [],
   "source": [
    "def final_cost(Z_final, Y ):\n",
    "    logits = tf.transpose(Z_final)\n",
    "    labels = tf.transpose(Y)\n",
    "    cost = tf.reduce_mean(tf.nn.softmax_cross_entropy_with_logits(logits=logits, labels=labels))\n",
    "    return cost"
   ]
  },
  {
   "cell_type": "code",
   "execution_count": 81,
   "metadata": {
    "collapsed": true
   },
   "outputs": [],
   "source": [
    "def random_samples_minibatch(X_train, Y_train, batch_size, seed = 1):\n",
    "    np.random.seed(seed)\n",
    "    m = X_train.shape[1]\n",
    "    num_batches = int(m/batch_size)\n",
    "    indices = np.random.permutation(m)\n",
    "    shuffle_X = X_train[:,indices]\n",
    "    shuffle_Y = Y_train[:,indices]\n",
    "    mini_batches = []\n",
    "    for i in range(num_batches):\n",
    "        X_batch = shuffle_X[:,i * batch_size:(i+1) * batch_size]\n",
    "        Y_batch = shuffle_Y[:,i * batch_size:(i+1) * batch_size]\n",
    "        mini_batches.append((X_batch, Y_batch))\n",
    "    if m % batch_size != 0:\n",
    "        X_batch = shuffle_X[:, (num_batches * batch_size):]\n",
    "        Y_batch = shuffle_Y[:, (num_batches * batch_size):]\n",
    "        mini_batches.append((X_batch, Y_batch))\n",
    "    return mini_batches"
   ]
  },
  {
   "cell_type": "code",
   "execution_count": 82,
   "metadata": {
    "collapsed": true
   },
   "outputs": [],
   "source": [
    "def model_with_minibatch(X_train,Y_train, layer_dims, learning_rate, num_iter, mini_batch_size):\n",
    "    num_features, num_samples = X_train.shape\n",
    "    num_classes = Y_train.shape[0]\n",
    "    A_0, Y = placeholders(num_features, num_classes)\n",
    "    parameters = initialize_parameters_deep(layer_dims)\n",
    "    Z_final = l_layer_forwardProp(A_0, parameters)\n",
    "    cost = final_cost(Z_final, Y)\n",
    "    train_net = tf.train.GradientDescentOptimizer(learning_rate).minimize(cost)\n",
    "    seed = 1\n",
    "    num_minibatches = int(num_samples / mini_batch_size)\n",
    "    init = tf.global_variables_initializer()\n",
    "    costs = []\n",
    "    with tf.Session() as sess:\n",
    "        sess.run(init)\n",
    "        for epoch in range(num_iter):\n",
    "            epoch_cost = 0\n",
    "            mini_batches = random_samples_minibatch(X_train, Y_train, mini_batch_size, seed)\n",
    "            seed = seed + 1\n",
    "            for mini_batch in mini_batches:\n",
    "                X_batch, Y_batch = mini_batch\n",
    "                _,mini_batch_cost = sess.run([train_net, cost], feed_dict={A_0: X_batch, Y: Y_batch})\n",
    "                epoch_cost += mini_batch_cost/num_minibatches\n",
    "            if epoch % 100 == 0:\n",
    "                costs.append(epoch_cost)\n",
    "            if epoch % 1000 == 0:\n",
    "                print(epoch_cost)\n",
    "        plt.ylim(0.2, 3, 0.01)\n",
    "        plt.xlabel(\"epoches per 100\")\n",
    "        plt.ylabel(\"cost\")\n",
    "        plt.plot(costs)\n",
    "        plt.show()\n",
    "        params = sess.run(parameters)\n",
    "    return params"
   ]
  },
  {
   "cell_type": "code",
   "execution_count": null,
   "metadata": {},
   "outputs": [
    {
     "name": "stdout",
     "output_type": "stream",
     "text": [
      "2.3504868158\n"
     ]
    }
   ],
   "source": [
    "model_with_minibatch(X_train, Y_train, layer_dims, 0.01, 10000, 1024)"
   ]
  },
  {
   "cell_type": "code",
   "execution_count": null,
   "metadata": {
    "collapsed": true
   },
   "outputs": [],
   "source": []
  }
 ],
 "metadata": {
  "kernelspec": {
   "display_name": "Python 3",
   "language": "python",
   "name": "python3"
  },
  "language_info": {
   "codemirror_mode": {
    "name": "ipython",
    "version": 3
   },
   "file_extension": ".py",
   "mimetype": "text/x-python",
   "name": "python",
   "nbconvert_exporter": "python",
   "pygments_lexer": "ipython3",
   "version": "3.6.3"
  }
 },
 "nbformat": 4,
 "nbformat_minor": 2
}
